{
 "cells": [
  {
   "cell_type": "markdown",
   "metadata": {},
   "source": [
    "# How To Manipulate and Analyze Data in Python Without Using Pandas"
   ]
  },
  {
   "cell_type": "markdown",
   "metadata": {},
   "source": [
    "### Import the data"
   ]
  },
  {
   "cell_type": "code",
   "execution_count": null,
   "metadata": {},
   "outputs": [],
   "source": [
    "import csv \n",
    "\n",
    "# read the data with csv into list 'pop'\n",
    "pop = []\n",
    "with open ('pop_subset.csv', 'r') as file:\n",
    "    csv_reader = csv.reader(file, delimiter=',')\n",
    "\n",
    "    for row in csv_reader:\n",
    "        pop.append(row)\n",
    "\n",
    "# print the first 5 rows of the table (5 first elements of the list)\n",
    "for row in range(0,5):\n",
    "    print(pop[row])"
   ]
  },
  {
   "cell_type": "markdown",
   "metadata": {},
   "source": [
    "### Create a summarized table"
   ]
  },
  {
   "cell_type": "code",
   "execution_count": null,
   "metadata": {},
   "outputs": [],
   "source": [
    "# change the population numbers to int values\n",
    "for row in range(1, len(pop)):\n",
    "    for column in range(1, len(pop[row])):\n",
    "        pop[row][column] = int(pop[row][column])\n",
    "\n",
    "# create table to store new data\n",
    "pop_exp_dev = []\n",
    "\n",
    "# add countries to column 0\n",
    "for row in range(0, len(pop)):\n",
    "    pop_exp_dev.append([])\n",
    "    pop_exp_dev[row].append(pop[row][0])\n",
    "\n",
    "# add highest/lowest projected population \n",
    "for row in range(1, len(pop)):\n",
    "    lowest = min(pop[row][1:])\n",
    "    lowest_index = pop[row].index(lowest)\n",
    "    lowest_year = pop[0][lowest_index]\n",
    "\n",
    "    highest = max(pop[row][1:])\n",
    "    highest_index = pop[row].index(highest)\n",
    "    highest_year = pop[0][highest_index]\n",
    "\n",
    "    pop_exp_dev[row].append(lowest)\n",
    "    pop_exp_dev[row].append(lowest_year)\n",
    "    pop_exp_dev[row].append(highest)\n",
    "    pop_exp_dev[row].append(highest_year)\n",
    "\n",
    "    # add relative change in population 2020-2100\n",
    "    dev = round((pop[row][-1]-pop[row][1])/pop[row][1]*100, 2)\n",
    "\n",
    "    pop_exp_dev[row].append(dev)\n",
    "\n",
    "# add column names\n",
    "col_names = ['country', 'lowest_pop', 'lowest_pop_year', 'highest_pop', 'highest_pop_year', 'rel_change_2020-2100']\n",
    "pop_exp_dev[0] = col_names\n",
    "\n",
    "# export to csv file \n",
    "with open ('summarized.csv', 'w') as file:\n",
    "    csv_writer = csv.writer(file, delimiter=';')\n",
    "    for row in pop_exp_dev:\n",
    "        csv_writer.writerow(row)\n",
    "\n",
    "# print first 5 rows of table\n",
    "for row in range(0,5):\n",
    "    print(pop_exp_dev[row])"
   ]
  },
  {
   "cell_type": "markdown",
   "metadata": {},
   "source": [
    "### Subset list for visualization\n",
    "Subset largest population growth and largest population decline."
   ]
  },
  {
   "cell_type": "code",
   "execution_count": null,
   "metadata": {},
   "outputs": [],
   "source": [
    "# subset: 10 countries with highest population growth and 10 countries with largest population decline\n",
    "\n",
    "# sort by relative change, highest to lowest\n",
    "pop_exp_dev_srt = sorted(pop_exp_dev[1:], reverse=True, key=lambda x: x[5])\n",
    "\n",
    "# create new list for our subset\n",
    "growth_decline = []\n",
    "\n",
    "# append 10 first and 10 last from sorted list\n",
    "for row in pop_exp_dev_srt[:11]:\n",
    "    growth_decline.append(row)\n",
    "for row in pop_exp_dev_srt[-10:]:\n",
    "    growth_decline.append(row)\n",
    "\n",
    "# make a horisontal bar plot\n",
    "import matplotlib.pyplot as plt\n",
    "\n",
    "# save values for x and y \n",
    "countries = []\n",
    "rel_change = []\n",
    "for row in range(1, len(growth_decline)):\n",
    "    countries.append(growth_decline[row][0])\n",
    "    rel_change.append(growth_decline[row][-1])\n",
    "\n",
    "plt.grid()\n",
    "plt.barh(countries, rel_change)\n",
    "plt.title('World Population Projection 2019 - 2100.\\nCountries with Largest Growth and Decline Respectively')\n",
    "plt.xlabel('Change factor in percent')\n",
    "plt.show()"
   ]
  },
  {
   "cell_type": "markdown",
   "metadata": {},
   "source": [
    "Subset European countries."
   ]
  },
  {
   "cell_type": "code",
   "execution_count": null,
   "metadata": {},
   "outputs": [],
   "source": [
    "# subset europe\n",
    "\n",
    "# create a list with European countries\n",
    "europe = ['Russia', 'Germany', 'United Kingdom', 'France', 'Italy', 'Spain', 'Ukraine', 'Poland', 'Romania', 'Netherlands', \n",
    "          'Belgium', 'Czech Republic', 'Greece', 'Portugal', 'Sweden', 'Hungary', 'Belarus', 'Austria', 'Serbia', \n",
    "          'Switzerland', 'Bulgaria', 'Denmark', 'Finland', 'Slovak Republic','Norway', 'Ireland', 'Croatia', 'Moldova', \n",
    "          'Bosnia and Herzegovina', 'Albania',\t'Lithuania','Macedonia, FYR', 'Slovenia', 'Latvia', 'Kosovo', 'Estonia', \n",
    "          'Montenegro', 'Luxembourg', 'Malta', 'Iceland', 'Andorra', 'Monaco', 'Liechtenstein', 'San Marino', 'Holy See']\n",
    "\n",
    "# create new empty list for Europe subset\n",
    "europe_list = []\n",
    "\n",
    "# find all countries in pop_exp_dev and add to europ_list\n",
    "for row in range(1, len(pop_exp_dev)):\n",
    "    if pop_exp_dev[row][0] in europe:\n",
    "        europe_list.append(pop_exp_dev[row])\n",
    "\n",
    "# sort highest to lowest\n",
    "europe_list_srt = sorted(europe_list, reverse=True, key=lambda x: x[5])"
   ]
  },
  {
   "cell_type": "markdown",
   "metadata": {},
   "source": [
    "### Normalize the table to compare population development between countries"
   ]
  },
  {
   "cell_type": "code",
   "execution_count": null,
   "metadata": {},
   "outputs": [],
   "source": [
    "# standardize the pop list, use 2020 as index year\n",
    "\n",
    "# create new empty list to store new values\n",
    "pop_norm = []\n",
    "\n",
    "# add country\n",
    "for row in range(len(pop)):\n",
    "    pop_norm.append([])\n",
    "    pop_norm[row].append(pop[row][0])\n",
    "\n",
    "# add normalized values for each year, use 2020 as index year\n",
    "for row in range(1,len(pop)):\n",
    "    for column in range(1, len(pop[row])):\n",
    "        pop_norm[row].append(round(pop[row][column]/pop[row][1]*100, 2))\n",
    "\n",
    "# add column names\n",
    "cols = ['COUNTRIES', '2019', '2020', '2025', '2030', '2035', '2040', '2045', '2050', '2055', '2060', '2065', '2070', '2075', '2080', '2085', '2090', '2095', '2100']\n",
    "pop_norm.insert(0, cols)\n",
    "\n",
    "# print first 5 rows\n",
    "for row in pop_norm[:5]:\n",
    "    print(row)"
   ]
  }
 ],
 "metadata": {
  "interpreter": {
   "hash": "1adc32960678f96234d8e7b594e84da1374368f947cdcd73de0f23d2b265a6bd"
  },
  "kernelspec": {
   "display_name": "Python 3.9.7 ('ipy')",
   "language": "python",
   "name": "python3"
  },
  "language_info": {
   "name": "python",
   "version": "3.9.7"
  },
  "orig_nbformat": 4
 },
 "nbformat": 4,
 "nbformat_minor": 2
}
